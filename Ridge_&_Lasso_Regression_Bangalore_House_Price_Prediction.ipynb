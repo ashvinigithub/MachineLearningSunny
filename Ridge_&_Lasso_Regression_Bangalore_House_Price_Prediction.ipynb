{
  "nbformat": 4,
  "nbformat_minor": 0,
  "metadata": {
    "colab": {
      "name": "Ridge & Lasso Regression -Bangalore House Price Prediction.ipynb",
      "provenance": [],
      "collapsed_sections": [],
      "include_colab_link": true
    },
    "kernelspec": {
      "name": "python3",
      "display_name": "Python 3"
    }
  },
  "cells": [
    {
      "cell_type": "markdown",
      "metadata": {
        "id": "view-in-github",
        "colab_type": "text"
      },
      "source": [
        "<a href=\"https://colab.research.google.com/github/ashvinigithub/MachineLearningSunny/blob/master/Ridge_%26_Lasso_Regression_Bangalore_House_Price_Prediction.ipynb\" target=\"_parent\"><img src=\"https://colab.research.google.com/assets/colab-badge.svg\" alt=\"Open In Colab\"/></a>"
      ]
    },
    {
      "cell_type": "markdown",
      "metadata": {
        "id": "dBzKIZDNpvcv",
        "colab_type": "text"
      },
      "source": [
        "# Business Problem - Predict the Price of Bangalore House\n",
        "Using Linear Regression - Supervised Machine Learning Algorithm"
      ]
    },
    {
      "cell_type": "markdown",
      "metadata": {
        "id": "XMXuHe_Nr3aJ",
        "colab_type": "text"
      },
      "source": [
        "### Load Libraries"
      ]
    },
    {
      "cell_type": "code",
      "metadata": {
        "id": "XumaS3odplm-",
        "colab_type": "code",
        "colab": {}
      },
      "source": [
        "import pandas as pd"
      ],
      "execution_count": null,
      "outputs": []
    },
    {
      "cell_type": "markdown",
      "metadata": {
        "id": "VhV2t0oasB1T",
        "colab_type": "text"
      },
      "source": [
        "### Load Data"
      ]
    },
    {
      "cell_type": "code",
      "metadata": {
        "id": "WSg8xJenr_Fb",
        "colab_type": "code",
        "colab": {}
      },
      "source": [
        "path = r\"https://drive.google.com/uc?export=download&id=1xxDtrZKfuWQfl-6KA9XEd_eatitNPnkB\" \n",
        "df = pd.read_csv(path)"
      ],
      "execution_count": null,
      "outputs": []
    },
    {
      "cell_type": "code",
      "metadata": {
        "id": "UN743hihsOV-",
        "colab_type": "code",
        "colab": {}
      },
      "source": [
        "df.head()"
      ],
      "execution_count": null,
      "outputs": []
    },
    {
      "cell_type": "markdown",
      "metadata": {
        "id": "_Sb7Jf8Ns3f5",
        "colab_type": "text"
      },
      "source": [
        "### Split Data"
      ]
    },
    {
      "cell_type": "code",
      "metadata": {
        "id": "ELKV24TYsQum",
        "colab_type": "code",
        "colab": {}
      },
      "source": [
        "X = df.drop('price', axis=1)\n",
        "y = df['price']\n",
        "\n",
        "print('Shape of X = ', X.shape)\n",
        "print('Shape of y = ', y.shape)"
      ],
      "execution_count": null,
      "outputs": []
    },
    {
      "cell_type": "code",
      "metadata": {
        "id": "SKmbpuzAtDp3",
        "colab_type": "code",
        "colab": {}
      },
      "source": [
        "from sklearn.model_selection import train_test_split\n",
        "X_train, X_test, y_train, y_test = train_test_split(X, y, test_size=0.2, random_state=51)\n",
        "\n",
        "print('Shape of X_train = ', X_train.shape)\n",
        "print('Shape of y_train = ', y_train.shape)\n",
        "print('Shape of X_test = ', X_test.shape)\n",
        "print('Shape of y_test = ', y_test.shape)"
      ],
      "execution_count": null,
      "outputs": []
    },
    {
      "cell_type": "markdown",
      "metadata": {
        "id": "udnxLNaSth6a",
        "colab_type": "text"
      },
      "source": [
        "### Feature Scaling"
      ]
    },
    {
      "cell_type": "code",
      "metadata": {
        "id": "HFJxT3jZtTvg",
        "colab_type": "code",
        "colab": {}
      },
      "source": [
        "from sklearn.preprocessing import StandardScaler\n",
        "sc = StandardScaler()\n",
        "sc.fit(X_train)\n",
        "X_train = sc.transform(X_train)\n",
        "X_test = sc.transform(X_test)"
      ],
      "execution_count": null,
      "outputs": []
    },
    {
      "cell_type": "markdown",
      "metadata": {
        "id": "_7o0jgxVtrLm",
        "colab_type": "text"
      },
      "source": [
        "## Linear Regression - ML Model Training"
      ]
    },
    {
      "cell_type": "code",
      "metadata": {
        "id": "FGiJwdHHtn5u",
        "colab_type": "code",
        "colab": {}
      },
      "source": [
        "from sklearn.linear_model import LinearRegression\n",
        "lr = LinearRegression()\n",
        "\n",
        "lr.fit(X_train, y_train)"
      ],
      "execution_count": null,
      "outputs": []
    },
    {
      "cell_type": "code",
      "metadata": {
        "id": "Yn7kt_LbuQde",
        "colab_type": "code",
        "colab": {}
      },
      "source": [
        "lr.coef_"
      ],
      "execution_count": null,
      "outputs": []
    },
    {
      "cell_type": "code",
      "metadata": {
        "id": "D3FGeadMuluX",
        "colab_type": "code",
        "colab": {}
      },
      "source": [
        "lr.intercept_"
      ],
      "execution_count": null,
      "outputs": []
    },
    {
      "cell_type": "markdown",
      "metadata": {
        "id": "lBVa6iK-u5FZ",
        "colab_type": "text"
      },
      "source": [
        "## Predict the value of Home and Test"
      ]
    },
    {
      "cell_type": "code",
      "metadata": {
        "id": "RgCXN7eoutrH",
        "colab_type": "code",
        "colab": {}
      },
      "source": [
        "X_test[0, :]"
      ],
      "execution_count": null,
      "outputs": []
    },
    {
      "cell_type": "code",
      "metadata": {
        "id": "R3HjZFTTvA9L",
        "colab_type": "code",
        "colab": {}
      },
      "source": [
        "lr.predict([X_test[0, :]])"
      ],
      "execution_count": null,
      "outputs": []
    },
    {
      "cell_type": "code",
      "metadata": {
        "id": "A-8Ligh5vMgV",
        "colab_type": "code",
        "colab": {}
      },
      "source": [
        "lr.predict(X_test)"
      ],
      "execution_count": null,
      "outputs": []
    },
    {
      "cell_type": "code",
      "metadata": {
        "id": "Acx0f7EzvZQu",
        "colab_type": "code",
        "colab": {}
      },
      "source": [
        "y_test"
      ],
      "execution_count": null,
      "outputs": []
    },
    {
      "cell_type": "code",
      "metadata": {
        "id": "29-MV-aHvfst",
        "colab_type": "code",
        "colab": {}
      },
      "source": [
        "lr.score(X_test, y_test)"
      ],
      "execution_count": null,
      "outputs": []
    },
    {
      "cell_type": "markdown",
      "metadata": {
        "id": "WGQ1LvtUtiGt",
        "colab_type": "text"
      },
      "source": [
        "## Implementing Ridge and Lasso Regression"
      ]
    },
    {
      "cell_type": "code",
      "metadata": {
        "id": "Ioz17drev3x1",
        "colab_type": "code",
        "colab": {}
      },
      "source": [
        "from sklearn.linear_model import Ridge, Lasso"
      ],
      "execution_count": null,
      "outputs": []
    },
    {
      "cell_type": "code",
      "metadata": {
        "id": "MBd98548tsux",
        "colab_type": "code",
        "colab": {}
      },
      "source": [
        "rd = Ridge()\n",
        "\n",
        "rd.fit(X_train,y_train)\n",
        "\n",
        "rd.score(X_test, y_test)"
      ],
      "execution_count": null,
      "outputs": []
    },
    {
      "cell_type": "code",
      "metadata": {
        "id": "L2AB0gfhuDUm",
        "colab_type": "code",
        "colab": {}
      },
      "source": [
        "ls = Lasso()\n",
        "\n",
        "ls.fit(X_train,y_train)\n",
        "\n",
        "ls.score(X_test, y_test)"
      ],
      "execution_count": null,
      "outputs": []
    },
    {
      "cell_type": "code",
      "metadata": {
        "id": "yLMOd7w_uTY_",
        "colab_type": "code",
        "colab": {}
      },
      "source": [
        "rd2 = Ridge(alpha = 2)\n",
        "\n",
        "rd2.fit(X_train,y_train)\n",
        "\n",
        "rd2.score(X_test, y_test)"
      ],
      "execution_count": null,
      "outputs": []
    },
    {
      "cell_type": "code",
      "metadata": {
        "id": "izDU6lwSupAW",
        "colab_type": "code",
        "colab": {}
      },
      "source": [
        "ls2 = Lasso(alpha=2)\n",
        "\n",
        "ls2.fit(X_train,y_train)\n",
        "\n",
        "ls2.score(X_test, y_test)"
      ],
      "execution_count": null,
      "outputs": []
    },
    {
      "cell_type": "code",
      "metadata": {
        "id": "NfBqF2jDuwl1",
        "colab_type": "code",
        "colab": {}
      },
      "source": [
        "ls3 = Lasso(alpha=3)\n",
        "\n",
        "ls3.fit(X_train,y_train)\n",
        "\n",
        "ls3.score(X_test, y_test)"
      ],
      "execution_count": null,
      "outputs": []
    },
    {
      "cell_type": "code",
      "metadata": {
        "id": "guotCzMXu44-",
        "colab_type": "code",
        "colab": {}
      },
      "source": [
        ""
      ],
      "execution_count": null,
      "outputs": []
    }
  ]
}